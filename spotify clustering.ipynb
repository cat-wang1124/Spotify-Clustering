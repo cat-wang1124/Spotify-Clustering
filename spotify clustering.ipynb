{
 "cells": [
  {
   "cell_type": "code",
   "execution_count": 2,
   "metadata": {},
   "outputs": [],
   "source": [
    "# TODO:\n",
    "\n",
    "# - scrape genres from API search result for each track (new col in df with 'genre')\n",
    "# - make playlists in increasing order of cluster size (1 smallest, 6 largest)\n",
    "# - plot some form of loss vs score for MOG\n",
    "\n",
    "# - run algorithms with/without PCA, compare between\n",
    "# - use playlist genre to infer similarity (assign genre for playlist for most common genre)\n",
    "\n",
    "# - cleanup notebook\n",
    "# - presentation \n",
    "# - write paper "
   ]
  },
  {
   "cell_type": "code",
   "execution_count": 1,
   "metadata": {},
   "outputs": [
    {
     "name": "stdout",
     "output_type": "stream",
     "text": [
      "Requirement already up-to-date: spotipy in c:\\users\\phillip carver\\appdata\\roaming\\python\\python38\\site-packages (2.18.0)\n",
      "Requirement already satisfied, skipping upgrade: urllib3>=1.26.0 in c:\\users\\phillip carver\\appdata\\roaming\\python\\python38\\site-packages (from spotipy) (1.26.5)\n",
      "Requirement already satisfied, skipping upgrade: six>=1.15.0 in c:\\programdata\\anaconda3\\lib\\site-packages (from spotipy) (1.15.0)\n",
      "Requirement already satisfied, skipping upgrade: requests>=2.25.0 in c:\\users\\phillip carver\\appdata\\roaming\\python\\python38\\site-packages (from spotipy) (2.25.1)\n",
      "Requirement already satisfied, skipping upgrade: chardet<5,>=3.0.2 in c:\\programdata\\anaconda3\\lib\\site-packages (from requests>=2.25.0->spotipy) (3.0.4)\n",
      "Requirement already satisfied, skipping upgrade: certifi>=2017.4.17 in c:\\programdata\\anaconda3\\lib\\site-packages (from requests>=2.25.0->spotipy) (2020.6.20)\n",
      "Requirement already satisfied, skipping upgrade: idna<3,>=2.5 in c:\\programdata\\anaconda3\\lib\\site-packages (from requests>=2.25.0->spotipy) (2.10)\n",
      "Note: you may need to restart the kernel to use updated packages.\n"
     ]
    }
   ],
   "source": [
    "pip install spotipy --upgrade --user"
   ]
  },
  {
   "cell_type": "code",
   "execution_count": 82,
   "metadata": {},
   "outputs": [
    {
     "name": "stdout",
     "output_type": "stream",
     "text": [
      "Collecting plotly\n",
      "  Downloading plotly-4.14.3-py2.py3-none-any.whl (13.2 MB)\n",
      "Collecting retrying>=1.3.3\n",
      "  Downloading retrying-1.3.3.tar.gz (10 kB)\n",
      "Requirement already satisfied: six in c:\\programdata\\anaconda3\\lib\\site-packages (from plotly) (1.15.0)\n",
      "Building wheels for collected packages: retrying\n",
      "  Building wheel for retrying (setup.py): started\n",
      "  Building wheel for retrying (setup.py): finished with status 'done'\n",
      "  Created wheel for retrying: filename=retrying-1.3.3-py3-none-any.whl size=11434 sha256=a5106d29f3a9cdb01414ed09b5b647648e31b18a933b007969cccf101fb71897\n",
      "  Stored in directory: c:\\users\\phillip carver\\appdata\\local\\pip\\cache\\wheels\\c4\\a7\\48\\0a434133f6d56e878ca511c0e6c38326907c0792f67b476e56\n",
      "Successfully built retrying\n",
      "Installing collected packages: retrying, plotly\n",
      "Successfully installed plotly-4.14.3 retrying-1.3.3\n",
      "Note: you may need to restart the kernel to use updated packages.\n"
     ]
    }
   ],
   "source": [
    "pip install plotly "
   ]
  },
  {
   "cell_type": "code",
   "execution_count": 75,
   "metadata": {},
   "outputs": [],
   "source": [
    "import spotipy\n",
    "import spotipy.util as util\n",
    "from spotipy.oauth2 import SpotifyOAuth\n",
    "from spotipy.oauth2 import SpotifyClientCredentials\n",
    "import spotipy.oauth2 as oauth2\n",
    "\n",
    "import pandas as pd\n",
    "import numpy as np\n",
    "import seaborn as sns"
   ]
  },
  {
   "cell_type": "code",
   "execution_count": 189,
   "metadata": {},
   "outputs": [],
   "source": [
    "CLIENT_ID     = 'df768b43d2cd406a9605cd8261680906'\n",
    "CLIENT_SECRET = '0db4a7ce151f424eb51e0da9fbc4985f'\n",
    "CLIENT_USERNAME = '1236559229'\n",
    "REDIRECT_URI  = 'https://localhost' #'http://127.0.0.1:8888/callback/'\n",
    "\n",
    "credentials = oauth2.SpotifyClientCredentials(\n",
    "        client_id=CLIENT_ID,\n",
    "        client_secret=CLIENT_SECRET)\n",
    "\n",
    "\n",
    "spotify = spotipy.Spotify(auth_manager=credentials)\n",
    "\n",
    "#scope = \"playlist-read-private\"\n",
    "#credentials = SpotifyOAuth(client_id=CLIENT_ID, client_secret=CLIENT_SECRET, redirect_uri=REDIRECT_URI, scope=scope)\n",
    "#spotify = spotipy.Spotify(auth_manager=credentials)\n"
   ]
  },
  {
   "cell_type": "code",
   "execution_count": 190,
   "metadata": {},
   "outputs": [
    {
     "name": "stderr",
     "output_type": "stream",
     "text": [
      "Using `localhost` as redirect URI without a port. Specify a port (e.g. `localhost:8080`) to allow automatic retrieval of authentication code instead of having to copy and paste the URL your browser is redirected to.\n"
     ]
    },
    {
     "name": "stdout",
     "output_type": "stream",
     "text": [
      "Enter the URL you were redirected to: http://localhost/?code=AQDDjG6TdUNCMlX4sWLjlD-j7J9PaO5k2Ip5lf0B1NTmNqWALAwEYbxD3ocVC1AL6FpsfFtuEi0mpQDaeHFyU7tyhxhD_x_WGiwk__BSlyoHu6T-hcfKFmE8OUms8sIuF3OVn4OhoiirS5R1nqCPooI9hxS7XCWnZTvV82dBEE7n3AbOVaaMUBdhOs4UKz_TLUaOPUq3kmeEglNng5VFmQgNQiwARpYBuwMWZNXwmtpkvIzpI8GSQ5SoX5mNvVAl3_mJgdOL8QT0Fi8AZuEMSi2ykawIMNoA1fi8GhVOGZ95h6pSl-a176Rynwtyceqv0F3pF4aJc5H8Jrhxa8uB7Qv9dEbewbga3Le4LB7zAKrQlwHmg13WXeRkDQxrHMxC-g2ygED9rVXFHP81ql0usGKkwGXye8hmndI4qpYA5DKNuegw0l0eTp8McetnjB_FxQCu0mH8rhc0Rh7McX55htSc\n"
     ]
    },
    {
     "name": "stderr",
     "output_type": "stream",
     "text": [
      "<ipython-input-190-f3faf8ae27ee>:12: DeprecationWarning:\n",
      "\n",
      "You're using 'as_dict = True'.get_access_token will return the token string directly in future versions. Please adjust your code accordingly, or use get_cached_token instead.\n",
      "\n"
     ]
    }
   ],
   "source": [
    "# this cell is taken from https://blog.seekwell.io/endless-spotify-playlist\n",
    "import requests\n",
    "from spotipy import oauth2\n",
    "import re\n",
    "\n",
    "SCOPE = ('user-read-recently-played,user-library-read,user-read-currently-playing,playlist-read-private,playlist-modify-private,playlist-modify-public,user-read-email,user-modify-playback-state,user-read-private,user-read-playback-state')\n",
    "SPOTIPY_REDIRECT_URI = 'http://localhost/'\n",
    "sp_oauth = oauth2.SpotifyOAuth( CLIENT_ID, CLIENT_SECRET, SPOTIPY_REDIRECT_URI, scope=SCOPE )\n",
    "\n",
    "#click \"Accept\" in your browser when the auth window pops up\n",
    "code = sp_oauth.get_auth_response(open_browser=True)\n",
    "token = sp_oauth.get_access_token(code)\n",
    "refresh_token = token['refresh_token']\n",
    "sp = spotipy.Spotify(auth=token['access_token'])\n",
    "username = sp.current_user()['id']"
   ]
  },
  {
   "cell_type": "code",
   "execution_count": 29,
   "metadata": {},
   "outputs": [
    {
     "name": "stdout",
     "output_type": "stream",
     "text": [
      "<class 'dict'>\n",
      "{'collaborative': False, 'description': '', 'external_urls': {'spotify': 'https://open.spotify.com/playlist/16bBaa44mAD67JjsUvHrxP'}, 'followers': {'href': None, 'total': 0}, 'href': 'https://api.spotify.com/v1/playlists/16bBaa44mAD67JjsUvHrxP', 'id': '16bBaa44mAD67JjsUvHrxP', 'images': [], 'name': 'demo', 'owner': {'display_name': 'Phillip Carver', 'external_urls': {'spotify': 'https://open.spotify.com/user/1281936588'}, 'href': 'https://api.spotify.com/v1/users/1281936588', 'id': '1281936588', 'type': 'user', 'uri': 'spotify:user:1281936588'}, 'primary_color': None, 'public': True, 'snapshot_id': 'MSwxNzY2Y2E4ZGMzMTUxYzc0YjMxMDdjZjhlNmZjM2I2MmZmMzNjYWRj', 'tracks': {'href': 'https://api.spotify.com/v1/playlists/16bBaa44mAD67JjsUvHrxP/tracks', 'items': [], 'limit': 100, 'next': None, 'offset': 0, 'previous': None, 'total': 0}, 'type': 'playlist', 'uri': 'spotify:playlist:16bBaa44mAD67JjsUvHrxP'}\n"
     ]
    }
   ],
   "source": [
    "# pl_name = 'demo'\n",
    "# result = sp.user_playlist_create(username, name=pl_name)\n",
    "# pl_id = result['id']\n",
    "\n",
    "# #playlist_add_items(pl_id, track_ids, position=None)\n",
    "# print(type(result))\n",
    "# print(result)"
   ]
  },
  {
   "cell_type": "markdown",
   "metadata": {},
   "source": [
    "### WIP: \n",
    "trying to create playlist from clusters"
   ]
  },
  {
   "cell_type": "markdown",
   "metadata": {},
   "source": [
    "### Spotipy API functions "
   ]
  },
  {
   "cell_type": "code",
   "execution_count": 71,
   "metadata": {},
   "outputs": [
    {
     "data": {
      "text/plain": [
       "{'external_urls': {'spotify': 'https://open.spotify.com/artist/04gDigrS5kc9YWfZHwBETP'},\n",
       " 'followers': {'href': None, 'total': 30964022},\n",
       " 'genres': ['pop', 'pop rock'],\n",
       " 'href': 'https://api.spotify.com/v1/artists/04gDigrS5kc9YWfZHwBETP',\n",
       " 'id': '04gDigrS5kc9YWfZHwBETP',\n",
       " 'images': [{'height': 640,\n",
       "   'url': 'https://i.scdn.co/image/ab6761610000e5ebe250c4af168f67f21dd604b2',\n",
       "   'width': 640},\n",
       "  {'height': 320,\n",
       "   'url': 'https://i.scdn.co/image/ab67616100005174e250c4af168f67f21dd604b2',\n",
       "   'width': 320},\n",
       "  {'height': 160,\n",
       "   'url': 'https://i.scdn.co/image/ab6761610000f178e250c4af168f67f21dd604b2',\n",
       "   'width': 160}],\n",
       " 'name': 'Maroon 5',\n",
       " 'popularity': 92,\n",
       " 'type': 'artist',\n",
       " 'uri': 'spotify:artist:04gDigrS5kc9YWfZHwBETP'}"
      ]
     },
     "execution_count": 71,
     "metadata": {},
     "output_type": "execute_result"
    }
   ],
   "source": [
    "artist = 'maroon 5'\n",
    "track = '5'\n",
    "res = spotify.search(q='artist:' + artist + ' track:' + track, type=\"track\", limit=1)\n",
    "\n",
    "res['tracks']['items'][0]\n",
    "\n",
    "#album_id = res['tracks']['items'][0]['album']['id']\n",
    "\n",
    "#track_id = res['tracks']['items'][0]['id']\n",
    "\n",
    "#spotify.album(album_id)\n",
    "#res\n",
    "#get track id from query\n",
    "#print(res['tracks']['items'][0]['id'])\n",
    "\n",
    "# features = spotify.audio_features(track_id)[0]\n",
    "\n",
    "# print(features)\n",
    "\n",
    "spotify.artist('04gDigrS5kc9YWfZHwBETP')\n",
    "\n",
    "# features.pop('type')\n",
    "# features.pop('id')\n",
    "# features.pop('uri')\n",
    "# features.pop('track_href')\n",
    "# features.pop('analysis_url')\n",
    "\n",
    "# print(features.values())\n",
    "# print(list(features.keys()))"
   ]
  },
  {
   "cell_type": "code",
   "execution_count": 1,
   "metadata": {},
   "outputs": [],
   "source": [
    "#gets track ids from playlist id\n",
    "def get_playlist_track_ids(playlist_id):\n",
    "    res = spotify.playlist_tracks(playlist_id)\n",
    "    track_ids = []\n",
    "    artists = []\n",
    "    tracks = []\n",
    "\n",
    "    for i in range(len(res['items'])):\n",
    "        tracks.append(res['items'][i]['track']['name']) # song name\n",
    "        artists.append(res['items'][i]['track']['artists'][0]['name']) # artist name\n",
    "        track_ids.append(res['items'][i]['track']['id']) # track_id\n",
    "        \n",
    "    return tracks, artists, track_ids\n",
    "\n",
    "\n",
    "#get ids based on artist name and track\n",
    "def get_track_ids(artists, track):\n",
    "    track_ids = []\n",
    "    for i in range(len(artists)):\n",
    "        res = spotify.search(q='artist:' + artists[i] + ' track:' + track[i], type=\"track\", limit=1)\n",
    "        track_id = res['tracks']['items'][0]['id']\n",
    "        track_ids.append(track_id)\n",
    "    return track_ids\n",
    "\n",
    "\n",
    "# clean data \n",
    "# remove non-qualitative features \n",
    "def get_track_features(track_ids):\n",
    "    track_features = []\n",
    "    \n",
    "    for i in range(len(track_ids)):\n",
    "        \n",
    "        features = spotify.audio_features(track_ids[i])\n",
    "        features[0].pop('type')\n",
    "        features[0].pop('id')\n",
    "        features[0].pop('uri')\n",
    "        features[0].pop('track_href')\n",
    "        features[0].pop('analysis_url')\n",
    "        \n",
    "        track_features.append(list(features[0].values()))\n",
    "        \n",
    "    df = pd.DataFrame(np.array(track_features), columns=list(features[0].keys()))\n",
    "    df.insert(0, 'id', np.array(track_ids))\n",
    "    #TODO: append column for artist name\n",
    "    \n",
    "    return df"
   ]
  },
  {
   "cell_type": "markdown",
   "metadata": {},
   "source": [
    "# Generate Data"
   ]
  },
  {
   "cell_type": "markdown",
   "metadata": {},
   "source": [
    "### DO NOT RUN THIS CELL:\n",
    "\n",
    "The cell below will generate our data from two playlists series created by Spotify:\n",
    "\n",
    "1. Viral 50 - daily hits from 70 countries (+ global playlist)\n",
    "2. Top 50 - weekly hits from 52 countries (+ global playlist)\n",
    "\n",
    "As these playlists are updated periodically, the cell below can be run to generate a more up-to-date sample. We've also removed duplicates as there is considerable overlap between countries. "
   ]
  },
  {
   "cell_type": "code",
   "execution_count": null,
   "metadata": {},
   "outputs": [],
   "source": [
    "countries_daily = ['USA', 'Global', 'United Kingdom', 'France', 'Russia', 'Mexico', 'Spain', 'Philippines', 'Colombia', \n",
    "             'South Korea', 'Netherlands', 'Norway', 'Ukraine', 'Canada', 'Sweden', 'Finland', 'Denmark', 'Poland', \n",
    "             'Turkey', 'Australia', 'Taiwan', 'Dominican Republic', 'Vietnam', 'Japan', 'Indonesia', 'Chile', 'Italy', \n",
    "             'Argentina', 'Israel', 'Germany', 'Belgium', 'Hong Kong', 'Brazil', 'India', 'Ireland', 'Greece', 'Peru',\n",
    "             'Austria', 'Iceland', 'Bulgaria', 'Lithuania', 'Bolivia', 'Romania', 'Latvia', 'Ecuador', 'Morocco', 'Malaysia',\n",
    "             'Estonia', 'Thailand', 'Portugal', 'Hungary', 'Paraguay', 'Egypt', 'Cyprus', 'Honduras', 'Guatemala', 'Costa Rica',\n",
    "             'Singapore', 'South Africa', 'Saudi Arabia', 'Uruguay', 'Andorra', 'Czech Republic', 'New Zealand', 'Switzerland',\n",
    "             'Nicaragua', 'UAE', 'El Salvador', 'Slovakia', 'Panama', 'Luxembourg']\n",
    "\n",
    "# array of dataframes (1 entry per playlist/country)\n",
    "playlist_df_daily = []\n",
    "\n",
    "for i in range(len(countries_daily)):\n",
    "    res = spotify.search('viral 50 - ' + countries_daily[i], type=\"playlist\", limit=1)\n",
    "    tracks, artists, track_ids = get_playlist_track_ids(res['playlists']['items'][0]['id'])\n",
    "    playlist_df_daily.append(get_track_features(track_ids))\n",
    "    \n",
    "\n",
    "daily_songs = pd.concat(playlist_df_daily, ignore_index=True)\n",
    "daily_songs = daily_songs.drop_duplicates(subset='id', keep='first', ignore_index=True)\n",
    "daily_songs.to_csv('Viral_50_Playlist_Data.csv')\n",
    "print('Viral 50 (daily) data generated')\n",
    "\n",
    "\n",
    "countries_weekly = ['Global', 'Argentina', 'Australia', 'Austria', 'Belgium', 'Brazil', 'Canada', 'Chile', 'Colombia', \n",
    "                    'Czech Republic', 'Denmark', 'Republic', 'Ecuador', 'Egypt', 'Finland', 'Germany', 'Guatemala', \n",
    "                    'Hong Kong', 'Hungary', 'India', 'Indonesia', 'Ireland', 'Israel', 'Italy', 'Japan', 'Malaysia', \n",
    "                    'Mexico', 'Morocco', 'Netherlands', 'New Zealand', 'Norway', 'Panama', 'Peru', 'Philippines', 'Poland',\n",
    "                    'Romania', 'Russia', 'Saudi Arabia', 'Singapore', 'Slovakia', 'South Africa', 'South Korea', 'Spain', \n",
    "                    'Sweden', 'Switzerland', 'Taiwan', 'Thailand', 'Turkey', 'Ukraine', 'UAE', 'United Kingdom', 'USA', \n",
    "                    'Vietnam']\n",
    "\n",
    "# array of dataframes (1 entry per playlist/country)\n",
    "playlist_df_weekly = []\n",
    "\n",
    "for i in range(len(countries_weekly)):\n",
    "    res = spotify.search('Top Songs - ' + countries_weekly[i], type=\"playlist\", limit=1)\n",
    "    tracks, artists, track_ids = get_playlist_track_ids(res['playlists']['items'][0]['id'])\n",
    "    playlist_df_weekly.append(get_track_features(track_ids))\n",
    "    \n",
    "    \n",
    "weekly_songs = pd.concat(playlist_df_weekly, ignore_index=True)\n",
    "weekly_songs = weekly_songs.drop_duplicates(subset='id', keep='first', ignore_index=True)\n",
    "weekly_songs.to_csv('Top_Songs_Playlist_Data.csv')\n",
    "print('Top Songs (weekly) data generated')\n",
    "\n",
    "\n",
    "combined_df = pd.concat([daily_songs, weekly_songs], ignore_index=True)\n",
    "combined_df = combined_df.drop_duplicates(subset='id', keep='first', ignore_index=True)\n",
    "\n",
    "print(combined_df.shape)\n",
    "combined_df.to_csv('Total_Data.csv')"
   ]
  },
  {
   "cell_type": "markdown",
   "metadata": {},
   "source": [
    "### Load sample"
   ]
  },
  {
   "cell_type": "code",
   "execution_count": 5,
   "metadata": {},
   "outputs": [
    {
     "data": {
      "text/html": [
       "<div>\n",
       "<style scoped>\n",
       "    .dataframe tbody tr th:only-of-type {\n",
       "        vertical-align: middle;\n",
       "    }\n",
       "\n",
       "    .dataframe tbody tr th {\n",
       "        vertical-align: top;\n",
       "    }\n",
       "\n",
       "    .dataframe thead th {\n",
       "        text-align: right;\n",
       "    }\n",
       "</style>\n",
       "<table border=\"1\" class=\"dataframe\">\n",
       "  <thead>\n",
       "    <tr style=\"text-align: right;\">\n",
       "      <th></th>\n",
       "      <th>danceability</th>\n",
       "      <th>energy</th>\n",
       "      <th>key</th>\n",
       "      <th>loudness</th>\n",
       "      <th>mode</th>\n",
       "      <th>speechiness</th>\n",
       "      <th>acousticness</th>\n",
       "      <th>instrumentalness</th>\n",
       "      <th>liveness</th>\n",
       "      <th>valence</th>\n",
       "      <th>tempo</th>\n",
       "      <th>duration_ms</th>\n",
       "    </tr>\n",
       "  </thead>\n",
       "  <tbody>\n",
       "    <tr>\n",
       "      <th>0</th>\n",
       "      <td>0.599</td>\n",
       "      <td>0.869</td>\n",
       "      <td>5.0</td>\n",
       "      <td>-5.174</td>\n",
       "      <td>0.0</td>\n",
       "      <td>0.0618</td>\n",
       "      <td>0.000707</td>\n",
       "      <td>0.000000</td>\n",
       "      <td>0.0911</td>\n",
       "      <td>0.453</td>\n",
       "      <td>132.889</td>\n",
       "      <td>193260.0</td>\n",
       "    </tr>\n",
       "    <tr>\n",
       "      <th>1</th>\n",
       "      <td>0.841</td>\n",
       "      <td>0.441</td>\n",
       "      <td>2.0</td>\n",
       "      <td>-8.363</td>\n",
       "      <td>1.0</td>\n",
       "      <td>0.0882</td>\n",
       "      <td>0.062400</td>\n",
       "      <td>0.010100</td>\n",
       "      <td>0.1390</td>\n",
       "      <td>0.428</td>\n",
       "      <td>102.995</td>\n",
       "      <td>189995.0</td>\n",
       "    </tr>\n",
       "    <tr>\n",
       "      <th>2</th>\n",
       "      <td>0.674</td>\n",
       "      <td>0.569</td>\n",
       "      <td>6.0</td>\n",
       "      <td>-9.753</td>\n",
       "      <td>0.0</td>\n",
       "      <td>0.2900</td>\n",
       "      <td>0.076900</td>\n",
       "      <td>0.000006</td>\n",
       "      <td>0.1100</td>\n",
       "      <td>0.474</td>\n",
       "      <td>101.349</td>\n",
       "      <td>226500.0</td>\n",
       "    </tr>\n",
       "    <tr>\n",
       "      <th>3</th>\n",
       "      <td>0.782</td>\n",
       "      <td>0.672</td>\n",
       "      <td>0.0</td>\n",
       "      <td>-5.913</td>\n",
       "      <td>1.0</td>\n",
       "      <td>0.0337</td>\n",
       "      <td>0.153000</td>\n",
       "      <td>0.013800</td>\n",
       "      <td>0.1650</td>\n",
       "      <td>0.961</td>\n",
       "      <td>123.982</td>\n",
       "      <td>198629.0</td>\n",
       "    </tr>\n",
       "    <tr>\n",
       "      <th>4</th>\n",
       "      <td>0.646</td>\n",
       "      <td>0.795</td>\n",
       "      <td>9.0</td>\n",
       "      <td>-3.293</td>\n",
       "      <td>1.0</td>\n",
       "      <td>0.0976</td>\n",
       "      <td>0.031900</td>\n",
       "      <td>0.000000</td>\n",
       "      <td>0.2670</td>\n",
       "      <td>0.796</td>\n",
       "      <td>89.990</td>\n",
       "      <td>210960.0</td>\n",
       "    </tr>\n",
       "    <tr>\n",
       "      <th>...</th>\n",
       "      <td>...</td>\n",
       "      <td>...</td>\n",
       "      <td>...</td>\n",
       "      <td>...</td>\n",
       "      <td>...</td>\n",
       "      <td>...</td>\n",
       "      <td>...</td>\n",
       "      <td>...</td>\n",
       "      <td>...</td>\n",
       "      <td>...</td>\n",
       "      <td>...</td>\n",
       "      <td>...</td>\n",
       "    </tr>\n",
       "    <tr>\n",
       "      <th>1761</th>\n",
       "      <td>0.935</td>\n",
       "      <td>0.474</td>\n",
       "      <td>2.0</td>\n",
       "      <td>-9.525</td>\n",
       "      <td>1.0</td>\n",
       "      <td>0.2220</td>\n",
       "      <td>0.393000</td>\n",
       "      <td>0.001570</td>\n",
       "      <td>0.0700</td>\n",
       "      <td>0.577</td>\n",
       "      <td>111.046</td>\n",
       "      <td>129987.0</td>\n",
       "    </tr>\n",
       "    <tr>\n",
       "      <th>1762</th>\n",
       "      <td>0.705</td>\n",
       "      <td>0.721</td>\n",
       "      <td>1.0</td>\n",
       "      <td>-3.409</td>\n",
       "      <td>1.0</td>\n",
       "      <td>0.0475</td>\n",
       "      <td>0.457000</td>\n",
       "      <td>0.000000</td>\n",
       "      <td>0.1210</td>\n",
       "      <td>0.519</td>\n",
       "      <td>159.935</td>\n",
       "      <td>185258.0</td>\n",
       "    </tr>\n",
       "    <tr>\n",
       "      <th>1763</th>\n",
       "      <td>0.695</td>\n",
       "      <td>0.872</td>\n",
       "      <td>9.0</td>\n",
       "      <td>-3.650</td>\n",
       "      <td>1.0</td>\n",
       "      <td>0.0868</td>\n",
       "      <td>0.334000</td>\n",
       "      <td>0.000000</td>\n",
       "      <td>0.9540</td>\n",
       "      <td>0.646</td>\n",
       "      <td>121.843</td>\n",
       "      <td>169593.0</td>\n",
       "    </tr>\n",
       "    <tr>\n",
       "      <th>1764</th>\n",
       "      <td>0.736</td>\n",
       "      <td>0.632</td>\n",
       "      <td>11.0</td>\n",
       "      <td>-4.939</td>\n",
       "      <td>0.0</td>\n",
       "      <td>0.0648</td>\n",
       "      <td>0.180000</td>\n",
       "      <td>0.000000</td>\n",
       "      <td>0.3490</td>\n",
       "      <td>0.503</td>\n",
       "      <td>92.030</td>\n",
       "      <td>216107.0</td>\n",
       "    </tr>\n",
       "    <tr>\n",
       "      <th>1765</th>\n",
       "      <td>0.638</td>\n",
       "      <td>0.355</td>\n",
       "      <td>1.0</td>\n",
       "      <td>-11.964</td>\n",
       "      <td>1.0</td>\n",
       "      <td>0.0484</td>\n",
       "      <td>0.617000</td>\n",
       "      <td>0.000000</td>\n",
       "      <td>0.1020</td>\n",
       "      <td>0.635</td>\n",
       "      <td>73.951</td>\n",
       "      <td>208779.0</td>\n",
       "    </tr>\n",
       "  </tbody>\n",
       "</table>\n",
       "<p>1766 rows × 12 columns</p>\n",
       "</div>"
      ],
      "text/plain": [
       "      danceability  energy   key  loudness  mode  speechiness  acousticness  \\\n",
       "0            0.599   0.869   5.0    -5.174   0.0       0.0618      0.000707   \n",
       "1            0.841   0.441   2.0    -8.363   1.0       0.0882      0.062400   \n",
       "2            0.674   0.569   6.0    -9.753   0.0       0.2900      0.076900   \n",
       "3            0.782   0.672   0.0    -5.913   1.0       0.0337      0.153000   \n",
       "4            0.646   0.795   9.0    -3.293   1.0       0.0976      0.031900   \n",
       "...            ...     ...   ...       ...   ...          ...           ...   \n",
       "1761         0.935   0.474   2.0    -9.525   1.0       0.2220      0.393000   \n",
       "1762         0.705   0.721   1.0    -3.409   1.0       0.0475      0.457000   \n",
       "1763         0.695   0.872   9.0    -3.650   1.0       0.0868      0.334000   \n",
       "1764         0.736   0.632  11.0    -4.939   0.0       0.0648      0.180000   \n",
       "1765         0.638   0.355   1.0   -11.964   1.0       0.0484      0.617000   \n",
       "\n",
       "      instrumentalness  liveness  valence    tempo  duration_ms  \n",
       "0             0.000000    0.0911    0.453  132.889     193260.0  \n",
       "1             0.010100    0.1390    0.428  102.995     189995.0  \n",
       "2             0.000006    0.1100    0.474  101.349     226500.0  \n",
       "3             0.013800    0.1650    0.961  123.982     198629.0  \n",
       "4             0.000000    0.2670    0.796   89.990     210960.0  \n",
       "...                ...       ...      ...      ...          ...  \n",
       "1761          0.001570    0.0700    0.577  111.046     129987.0  \n",
       "1762          0.000000    0.1210    0.519  159.935     185258.0  \n",
       "1763          0.000000    0.9540    0.646  121.843     169593.0  \n",
       "1764          0.000000    0.3490    0.503   92.030     216107.0  \n",
       "1765          0.000000    0.1020    0.635   73.951     208779.0  \n",
       "\n",
       "[1766 rows x 12 columns]"
      ]
     },
     "execution_count": 5,
     "metadata": {},
     "output_type": "execute_result"
    }
   ],
   "source": [
    "sample_df = pd.read_csv('Total_Data.csv', index_col=0)\n",
    "sample_df = sample_df.sample(frac=1).reset_index(drop=True) #shuffle indices\n",
    "ids = sample_df['id']\n",
    "\n",
    "sample_df = sample_df.drop(columns=['id', 'time_signature'])      #drop columns\n",
    "\n",
    "sample = sample_df.to_numpy()\n",
    "\n",
    "sample_df"
   ]
  },
  {
   "cell_type": "code",
   "execution_count": 80,
   "metadata": {},
   "outputs": [
    {
     "data": {
      "image/png": "[encoded data removed]",
      "text/plain": [
       "<Figure size 864x576 with 2 Axes>"
      ]
     },
     "metadata": {
      "needs_background": "light"
     },
     "output_type": "display_data"
    }
   ],
   "source": [
    "fig, ax = plt.subplots(figsize=(12, 8))\n",
    "corr = sample_df.corr()\n",
    "hm = sns.heatmap(round(corr,2), annot=True, ax=ax, cmap=\"coolwarm\",fmt='.2f',\n",
    "                 linewidths=.05)\n",
    "fig.subplots_adjust(top=0.93)\n",
    "t = fig.suptitle('Song Attributes Correlation Heatmap', fontsize=14)"
   ]
  },
  {
   "cell_type": "markdown",
   "metadata": {},
   "source": [
    "# Implement PCA"
   ]
  },
  {
   "cell_type": "code",
   "execution_count": 6,
   "metadata": {},
   "outputs": [],
   "source": [
    "import scipy.io as sio\n",
    "import matplotlib\n",
    "import matplotlib.pyplot as plt\n",
    "from numpy.matlib import repmat\n",
    "from sklearn.preprocessing import normalize\n",
    "\n",
    "%matplotlib inline"
   ]
  },
  {
   "cell_type": "code",
   "execution_count": 23,
   "metadata": {},
   "outputs": [],
   "source": [
    "def eigsort(V, eigvals):\n",
    "    \n",
    "    # Sort the eigenvalues from largest to smallest. Store the sorted\n",
    "    # eigenvalues in the column vector lambd.\n",
    "    lohival = np.sort(eigvals)\n",
    "    lohiindex = np.argsort(eigvals)\n",
    "    lambd = np.flip(lohival)\n",
    "    index = np.flip(lohiindex)\n",
    "    Dsort = np.diag(lambd)\n",
    "    \n",
    "    # Sort eigenvectors to correspond to the ordered eigenvalues. Store sorted\n",
    "    # eigenvectors as columns of the matrix vsort.\n",
    "    M = np.size(lambd)\n",
    "    Vsort = np.zeros((M, M))\n",
    "    for i in range(M):\n",
    "        Vsort[:,i] = V[:,index[i]]\n",
    "    return Vsort, Dsort\n",
    "\n",
    "\n",
    "# normc(M) normalizes the columns of M to a length of 1.\n",
    "def normc(Mat):\n",
    "    return normalize(Mat, norm='l2', axis=0)\n",
    "\n",
    "\n",
    "def PCA_(data, normalize=True):\n",
    "    \n",
    "    m,n = data.shape\n",
    "\n",
    "    mean = np.mean(data, 0)\n",
    "    Z = data - mean\n",
    "    C = np.dot(Z.T, Z)\n",
    "\n",
    "    D, V = np.linalg.eig(C)\n",
    "    Vsort, Dsort = eigsort(V, D)\n",
    "    U = np.dot(Z, Vsort)\n",
    "    \n",
    "    if normalize:\n",
    "        U = normc(U)\n",
    "        \n",
    "    return U, Vsort, Dsort, Z\n",
    "\n",
    "def PCA_project(sample, k):\n",
    "    \n",
    "    U, Vsort, Dsort, Z = PCA_(sample)\n",
    "    \n",
    "    # compute principal components\n",
    "    pc = np.dot(U.T, Z)\n",
    "    \n",
    "    #project data into k-dimensional space\n",
    "    proj_data = np.dot( U[:,0:k], pc[0:k] ) + np.mean(sample, 0)\n",
    "    \n",
    "    return proj_data\n",
    "\n",
    "def PCA_eigenvalues(sample):\n",
    "    \n",
    "    U, Vsort, Dsort, Z = PCA_(sample)\n",
    "    \n",
    "    eigenvalues = []\n",
    "    for i in range(sample.shape[1]):\n",
    "        eigenvalues.append(Dsort[i,i])\n",
    "        \n",
    "    return eigenvalues"
   ]
  },
  {
   "cell_type": "markdown",
   "metadata": {},
   "source": [
    "# Run PCA"
   ]
  },
  {
   "cell_type": "code",
   "execution_count": 24,
   "metadata": {},
   "outputs": [],
   "source": [
    "proj_data = PCA_project(sample, 5)\n",
    "eigenvalues = PCA_eigenvalues(sample)"
   ]
  },
  {
   "cell_type": "code",
   "execution_count": 83,
   "metadata": {},
   "outputs": [],
   "source": [
    "import plotly.express as px"
   ]
  },
  {
   "cell_type": "code",
   "execution_count": null,
   "metadata": {},
   "outputs": [],
   "source": [
    "# visualizes all the original dimensions\n",
    "fig = px.scatter_matrix(sample_df, dimensions=sample_df.columns)\n",
    "fig.update_traces(diagonal_visible=False)\n",
    "fig.show()"
   ]
  },
  {
   "cell_type": "code",
   "execution_count": null,
   "metadata": {},
   "outputs": [],
   "source": [
    "# visualizes all the principal components\n",
    "fig = px.scatter_matrix(\n",
    "    U,\n",
    "    labels=tuple(sample_df.columns),\n",
    "    dimensions=range(12),\n",
    ")\n",
    "fig.update_traces(diagonal_visible=False)\n",
    "fig.show()"
   ]
  },
  {
   "cell_type": "code",
   "execution_count": null,
   "metadata": {},
   "outputs": [],
   "source": [
    "# visualizes first four principal components\n",
    "fig = px.scatter_matrix(\n",
    "    U,\n",
    "    labels=tuple(sample_df.columns),\n",
    "    dimensions=range(4),\n",
    ")\n",
    "fig.update_traces(diagonal_visible=False)\n",
    "fig.show()"
   ]
  },
  {
   "cell_type": "code",
   "execution_count": null,
   "metadata": {},
   "outputs": [],
   "source": [
    "### THOUGHT: you can view this graph from a certain angle, which will represent the principle components above\n",
    "a =  proj_data[:,0]\n",
    "b =  proj_data[:,1]\n",
    "c =  proj_data[:,2]\n",
    "cc = proj_data[:,3]\n",
    "\n",
    "fig = px.scatter_3d(x=a, y=b, z=c, color=cc)\n",
    "fig.show()"
   ]
  },
  {
   "cell_type": "code",
   "execution_count": null,
   "metadata": {},
   "outputs": [],
   "source": [
    "### keeping this to cross reference PCA solution w sklearn package, DELETE LATER\n",
    "\n",
    "\n",
    "\n",
    "# visualizes all the principal components\n",
    "# from sklearn.decomposition import PCA\n",
    "\n",
    "# pca = PCA()\n",
    "# components = pca.fit_transform(pca_df[features])\n",
    "\n",
    "# labels = {\n",
    "#     str(i): f\"PC {i+1} ({var:.1f}%)\"\n",
    "#     for i, var in enumerate(pca.explained_variance_ratio_ * 100)\n",
    "# }\n",
    "# fig = px.scatter_matrix(\n",
    "#     components,\n",
    "#     labels=labels,\n",
    "#     dimensions=range(4),\n",
    "# )\n",
    "# fig.update_traces(diagonal_visible=False)\n",
    "# fig.show()"
   ]
  },
  {
   "cell_type": "markdown",
   "metadata": {},
   "source": [
    "# K means"
   ]
  },
  {
   "cell_type": "code",
   "execution_count": 148,
   "metadata": {},
   "outputs": [],
   "source": [
    "# define number of k clusters to use for K means and MOG\n",
    "def cluster_analysis_kmeans(data):\n",
    "    \n",
    "    k_values = range(1,12)\n",
    "    k_distances = []\n",
    "    \n",
    "    for k in k_values:\n",
    "        X = data\n",
    "        resp, Kmus, Rnk = runKMeans(X, k)\n",
    "        loss = np.sum(calcSqDistances(X, Kmus) * Rnk)\n",
    "        k_distances.append(loss)\n",
    "\n",
    "    plt.scatter(x=k_values, y=k_distances)\n",
    "    plt.xlabel('Number of clusters')\n",
    "    plt.ylabel('Sum centroid distance')\n",
    "    "
   ]
  },
  {
   "cell_type": "markdown",
   "metadata": {},
   "source": [
    "The loss will always decrease as k grows to n. We think that 6 is an ideal k-value because there is an elbow in the graph. "
   ]
  },
  {
   "cell_type": "code",
   "execution_count": 149,
   "metadata": {},
   "outputs": [
    {
     "data": {
      "image/png": "[encoded data removed]",
      "text/plain": [
       "<Figure size 432x288 with 1 Axes>"
      ]
     },
     "metadata": {
      "needs_background": "light"
     },
     "output_type": "display_data"
    }
   ],
   "source": [
    "cluster_analysis_kmeans(sample)"
   ]
  },
  {
   "cell_type": "markdown",
   "metadata": {},
   "source": [
    "## Implement K means"
   ]
  },
  {
   "cell_type": "code",
   "execution_count": 31,
   "metadata": {},
   "outputs": [],
   "source": [
    "def calcSqDistances(X, Kmus):\n",
    "    \n",
    "    A_sq = np.sum(np.square(X)[:,np.newaxis,:], axis=2)\n",
    "    AB = X.dot(Kmus.T)\n",
    "    B_sq = np.sum(np.square(Kmus), axis=1)\n",
    "    \n",
    "    distances = A_sq - 2*AB + B_sq\n",
    "    return np.sqrt(distances)\n",
    "\n",
    "def determineRnk(sqDmat):\n",
    "        \n",
    "    inds = np.argmin(sqDmat,axis=1)\n",
    "    Rnk = np.zeros((inds.size, sqDmat.shape[1]))\n",
    "    Rnk[np.arange(inds.size),inds] = 1\n",
    "    \n",
    "    return Rnk\n",
    "\n",
    "def recalcMus(X, Rnk):\n",
    "    \n",
    "    K = Rnk.shape[1]\n",
    "    N = X.shape[0]\n",
    "    \n",
    "    top = np.sum(Rnk.T.reshape(K,N,1)*np.tile(X,(K,1,1)), axis=1)\n",
    "    bot = np.sum(Rnk, axis=0).reshape(K,1)\n",
    "    \n",
    "    return top / bot \n",
    "\n",
    "def runKMeans(X, K, maxiters=1000):\n",
    "    N = np.shape(X)[0]\n",
    "    D = np.shape(X)[1]\n",
    "    \n",
    "    Kmus = np.zeros((K, D))\n",
    "\n",
    "    rndinds = np.random.permutation(N)\n",
    "    Kmus = X[rndinds[:K]];\n",
    "    \n",
    "    for iter in range(maxiters):\n",
    "        # Assign each data vector to closest mu vector\n",
    "        # Do this by first calculating a squared distance matrix where the n,k entry\n",
    "        # contains the squared distance from the nth data vector to the kth mu vector\n",
    "\n",
    "        # sqDmat will be an N-by-K matrix with the n,k entry as specfied above\n",
    "        sqDmat = calcSqDistances(X, Kmus)\n",
    "\n",
    "        # R is the \"responsibility\" matrix\n",
    "        # R will be an N-by-K matrix of binary values whose n,k entry is set as \n",
    "        # Specifically, the n,k entry is 1 if point n is closest to cluster k,\n",
    "        # and is 0 otherwise\n",
    "        Rnk = determineRnk(sqDmat)\n",
    "\n",
    "        KmusOld = Kmus\n",
    "\n",
    "        # Recalculate mu values based on cluster assignments\n",
    "        Kmus = recalcMus(X, Rnk)\n",
    "        \n",
    "        # convergence condition\n",
    "        if (np.array_equal(KmusOld, Kmus)):\n",
    "            break\n",
    "            \n",
    "    resp = np.array(list(map(np.where, Rnk))).flatten()\n",
    "        \n",
    "    return resp, Kmus, Rnk"
   ]
  },
  {
   "cell_type": "markdown",
   "metadata": {},
   "source": [
    "## Run K means"
   ]
  },
  {
   "cell_type": "markdown",
   "metadata": {},
   "source": [
    "We ran K-means repeatedly to find an ideal K that would keep cluster sizes consistent. We found the most success with 10-12 clusters. \n",
    "However, let's run some analysis and check what the ideal K should be.\n",
    "\n",
    "- when printing cluster sizes for multiple iterations, print mean of cluster sizes"
   ]
  },
  {
   "cell_type": "code",
   "execution_count": 169,
   "metadata": {},
   "outputs": [
    {
     "name": "stderr",
     "output_type": "stream",
     "text": [
      "<ipython-input-31-ace904fecd86>:8: RuntimeWarning:\n",
      "\n",
      "invalid value encountered in sqrt\n",
      "\n"
     ]
    }
   ],
   "source": [
    "resp, Kmus, Rnk = runKMeans(sample, 6)"
   ]
  },
  {
   "cell_type": "code",
   "execution_count": 171,
   "metadata": {},
   "outputs": [
    {
     "name": "stdout",
     "output_type": "stream",
     "text": [
      "[29, 149, 197, 341, 493, 557]\n",
      "[ 29 341 557 197 149 493]\n"
     ]
    }
   ],
   "source": [
    "counts = np.unique(resp, return_counts=True)[1]\n",
    "counts\n",
    "print(sorted(counts))\n",
    "print(counts)"
   ]
  },
  {
   "cell_type": "code",
   "execution_count": 236,
   "metadata": {},
   "outputs": [],
   "source": [
    "#playlist = list(ids.iloc[sample_df.loc[np.where(resp == 7)].index])\n",
    "# sp.playlist_add_items()\n",
    "#sp.current_user_top_artists()"
   ]
  },
  {
   "cell_type": "code",
   "execution_count": 38,
   "metadata": {},
   "outputs": [],
   "source": [
    "# for i in range(20):\n",
    "#     resp, Kmus, Rnk = runKMeans(X, 10)\n",
    "#     counts = np.unique(resp, return_counts=True)[1]\n",
    "#     print(sorted(counts))"
   ]
  },
  {
   "cell_type": "code",
   "execution_count": 53,
   "metadata": {},
   "outputs": [
    {
     "name": "stdout",
     "output_type": "stream",
     "text": [
      "15\n",
      "['2UZZtkoLOg7IHxeTAdPFvd', '35PSC06MB5iwRCAiT5EHHh', '4ckpR1gCb3PuoDAbEA9a66', '2p3qr3HQBgsjeE5rFobSDy', '4dGJIcTQb05A0ZQgnvZm6k', '32dzOvkFzmjEPjPidQRxU4', '7hICqTvF8m3qTwhb2TRv0z', '0TtgKq96j4bpE5UQUDXrwH', '5hMRPijl4hm6jOnDhT5EbY', '1u73tmG4xQschbK8cXxSD9', '66qOuPxn0XSg27YLKpdExn', '5GGTgkmfEzkhAfmG0hxXk9', '4B1P7IvjTZXaRJzhs5mvcw', '1goiRWxiG3GTlODrdDZ7NR', '63qZf6349d3ngku9hrzLac']\n"
     ]
    }
   ],
   "source": [
    "# spotify.track(sample_df.iloc[3]['id'])\n",
    "#len(sample_df.loc[np.where(resp == 0)])\n",
    "\n",
    "# playlist = list(ids.iloc[sample_df.loc[np.where(resp == np.argmin(counts))].index])\n",
    "# print(len(playlist))\n",
    "# print(playlist)"
   ]
  },
  {
   "cell_type": "markdown",
   "metadata": {},
   "source": [
    "# Mixture of Gaussians"
   ]
  },
  {
   "cell_type": "code",
   "execution_count": 167,
   "metadata": {},
   "outputs": [
    {
     "name": "stdout",
     "output_type": "stream",
     "text": [
      "[7 3 7 ... 2 0 9]\n",
      "[0.61521951 0.93419636 0.73459777 ... 0.59643686 0.88615763 0.99512225]\n"
     ]
    }
   ],
   "source": [
    "from sklearn.mixture import GaussianMixture\n",
    "\n",
    "gmm = GaussianMixture(n_components=10).fit(sample)\n",
    "labels = gmm.predict(sample) # for labels\n",
    "#log_probs = gmm.score_samples(sample) # weighted log probability for each sample\n",
    "\n",
    "probs = gmm.predict_proba(sample)\n",
    "highest_prob = np.apply_along_axis(np.amax, 1, probs)\n",
    "\n",
    "print(labels)\n",
    "print(highest_prob)\n",
    "\n",
    "#np.prod(highest_prob)\n",
    "#np.sum(log_probs)"
   ]
  },
  {
   "cell_type": "markdown",
   "metadata": {},
   "source": [
    "## Run Mixture of Gaussians"
   ]
  },
  {
   "cell_type": "markdown",
   "metadata": {},
   "source": [
    "MOG returns labels for each datapoint, so we can create playlists in a similar fashion to k-means"
   ]
  },
  {
   "cell_type": "code",
   "execution_count": 155,
   "metadata": {},
   "outputs": [],
   "source": [
    "# define number of k clusters to use for K means and MOG\n",
    "# def cluster_analysis_MOG(data):\n",
    "    \n",
    "#     k_values = range(1,12)\n",
    "#     k_probs = []\n",
    "    \n",
    "#     for k in k_values:\n",
    "#         X = data\n",
    "#         gmm = GaussianMixture(n_components=k).fit(sample)\n",
    "#         log_probs = gmm.score_samples(sample)\n",
    "#         k_probs.append(np.sum(log_probs))\n",
    "        \n",
    "#     plt.scatter(x=k_values, y=k_probs)\n",
    "#     ax.set_yscale('log')\n",
    "#     plt.xlabel('Number of clusters')\n",
    "#     plt.ylabel('Sum log probs')"
   ]
  },
  {
   "cell_type": "code",
   "execution_count": 168,
   "metadata": {},
   "outputs": [],
   "source": [
    "#cluster_analysis_MOG(sample)"
   ]
  },
  {
   "cell_type": "markdown",
   "metadata": {},
   "source": [
    "Here we are doing something similar to what we did to k-means: run MOG multiple times and look at cluster sizes and how they vary between iterations"
   ]
  },
  {
   "cell_type": "code",
   "execution_count": 139,
   "metadata": {},
   "outputs": [],
   "source": [
    "# for i in range(10):\n",
    "#     gmm = GaussianMixture(n_components=10, covariance_type='spherical').fit(sample)\n",
    "#     labels = gmm.predict(sample)\n",
    "\n",
    "#     counts = np.unique(labels, return_counts=True)[1]\n",
    "#     print(sorted(counts))"
   ]
  },
  {
   "cell_type": "code",
   "execution_count": null,
   "metadata": {},
   "outputs": [],
   "source": []
  },
  {
   "cell_type": "markdown",
   "metadata": {},
   "source": [
    "# Results/Analysis\n",
    "\n",
    "graph:\n",
    "- graph loss vs number of clusters\n",
    "- graph elbow for eigenvalues\n",
    "- cluster magnitude, cluster cardinality"
   ]
  },
  {
   "cell_type": "markdown",
   "metadata": {},
   "source": [
    "## Generate Playlists"
   ]
  },
  {
   "cell_type": "code",
   "execution_count": 227,
   "metadata": {},
   "outputs": [
    {
     "name": "stdout",
     "output_type": "stream",
     "text": [
      "[   0    1    2 ... 4997 4998 4999]\n"
     ]
    },
    {
     "data": {
      "text/plain": [
       "100.0"
      ]
     },
     "execution_count": 227,
     "metadata": {},
     "output_type": "execute_result"
    }
   ],
   "source": [
    "import math\n",
    "\n",
    "pl_len = 5000\n",
    "\n",
    "r = np.array(range(0,pl_len))\n",
    "\n",
    "print(r)\n",
    "\n",
    "batches = math.ceil(pl_len / 100)\n",
    "\n",
    "splits = np.array_split(r, batches)\n",
    "\n",
    "\n",
    "\n",
    "len(splits)\n",
    "#math.ceil(250 / 100)\n"
   ]
  },
  {
   "cell_type": "code",
   "execution_count": 228,
   "metadata": {},
   "outputs": [],
   "source": [
    "def make_playlist(username, pl_name, track_ids):\n",
    "\n",
    "    result = sp.user_playlist_create(username, name=pl_name)\n",
    "    pl_id = result['id']\n",
    "    pl_len = len(track_ids)\n",
    "    \n",
    "    # 100 max at a time\n",
    "    if pl_len > 100:\n",
    "        batches = math.ceil(pl_len / 100)\n",
    "\n",
    "        splits = np.array_split(track_ids, batches)\n",
    "        \n",
    "        for split in splits:\n",
    "            sp.user_playlist_add_tracks(username, pl_id, split)\n",
    "    else:\n",
    "        sp.user_playlist_add_tracks(username, pl_id, track_ids)\n",
    "    \n",
    "    return pl_id, pl_len"
   ]
  },
  {
   "cell_type": "code",
   "execution_count": 229,
   "metadata": {},
   "outputs": [
    {
     "name": "stderr",
     "output_type": "stream",
     "text": [
      "<ipython-input-31-ace904fecd86>:8: RuntimeWarning:\n",
      "\n",
      "invalid value encountered in sqrt\n",
      "\n"
     ]
    },
    {
     "data": {
      "text/plain": [
       "('2deE8T7bZUuvmIsJKyoipO', 555)"
      ]
     },
     "execution_count": 229,
     "metadata": {},
     "output_type": "execute_result"
    }
   ],
   "source": [
    "\n",
    "\n",
    "resp, Kmus, Rnk = runKMeans(sample, 6)\n",
    "\n",
    "track_ids = ids.iloc[sample_df.loc[np.where(resp == 0)].index]\n",
    "\n",
    "make_playlist(username, 'epic attempt', track_ids)"
   ]
  },
  {
   "cell_type": "code",
   "execution_count": 234,
   "metadata": {},
   "outputs": [
    {
     "data": {
      "text/plain": [
       "array([555,  29, 149, 343, 196, 494], dtype=int64)"
      ]
     },
     "execution_count": 234,
     "metadata": {},
     "output_type": "execute_result"
    }
   ],
   "source": [
    "counts = np.unique(resp, return_counts=True)[1]\n",
    "counts"
   ]
  },
  {
   "cell_type": "code",
   "execution_count": 242,
   "metadata": {},
   "outputs": [],
   "source": [
    "# k means playlist of clusters\n",
    "def kmeans_cluster_playlists(resp, k, pca_flag):\n",
    "    \n",
    "    #resp, Kmus, Rnk = runKMeans(sample, k)\n",
    "\n",
    "    playlist_ids = []\n",
    "    playlist_lens = []\n",
    "    \n",
    "    if pca_flag: \n",
    "        pca = ' with pca' \n",
    "    else: \n",
    "        pca = ' w/o pca'\n",
    "        \n",
    "    counts = np.unique(resp, return_counts=True)[1]\n",
    "    \n",
    "    for i in range(k):\n",
    "#         cluster_idx = np.argmin(counts)\n",
    "#         playlist = list(ids.iloc[sample_df.loc[np.where(resp == cluster_idx)].index])\n",
    "#         np.delete(counts, cluster_idx) # allows playlist_ids to be in ascending order \n",
    "        \n",
    "        #track_ids = list(ids.iloc[sample_df.loc[np.where(resp == cluster_idx)].index])\n",
    "        track_ids = list(ids.iloc[sample_df.loc[np.where(resp == i)].index])\n",
    "        pl_id, pl_len = make_playlist(username, 'k means cluster: ' + str(i+1) + pca, track_ids)\n",
    "        \n",
    "        playlist_ids.append(pl_id)\n",
    "        playlist_lens.append(pl_len)\n",
    "        \n",
    "    return playlist_ids, playlist_lens"
   ]
  },
  {
   "cell_type": "code",
   "execution_count": 243,
   "metadata": {},
   "outputs": [
    {
     "data": {
      "text/plain": [
       "(['7qNPHQAGzQtBWWRx3E4KKv',\n",
       "  '1IZSXIzNiIwprAAPkhbXHI',\n",
       "  '6AyjXdzEeOuSnnxJMwYjMJ',\n",
       "  '5653vKie9Q3jzfRnlm0f8W',\n",
       "  '0gLScsqQSXKvxEDibuR66q',\n",
       "  '0akPDTUZcXKXv3t4W7qLkA'],\n",
       " [343, 29, 196, 555, 149, 494])"
      ]
     },
     "execution_count": 243,
     "metadata": {},
     "output_type": "execute_result"
    }
   ],
   "source": [
    "resp, Kmus, Rnk = runKMeans(sample, 6)\n",
    "\n",
    "kmeans_cluster_playlists(resp, 6, True)"
   ]
  },
  {
   "cell_type": "markdown",
   "metadata": {},
   "source": [
    "### compare playlist\n",
    "\n",
    "Each cluster is a playlist. <br>\n",
    "6 clusters, 4 parameters: <br>\n",
    "    - k means with PCA <br>\n",
    "    - k means without PCA <br>\n",
    "    - MOG with PCA <br> \n",
    "    - MOG without PCA <br>"
   ]
  },
  {
   "cell_type": "code",
   "execution_count": 210,
   "metadata": {},
   "outputs": [
    {
     "data": {
      "text/plain": [
       "(['5evNJKU3T0p8dfC17arN17',\n",
       "  '3EZVIX6tdL2QrPU0b8u9QY',\n",
       "  '66CcX1frSE8UGhBWTsm5gL',\n",
       "  '5C0ODkrGYVPbADmqOkxOe8',\n",
       "  '4xf2lH27Jc5k5sOHymgZVD',\n",
       "  '2K8CXVeaD9vWX8H92p5iMG'],\n",
       " [29, 29, 29, 29, 29, 29])"
      ]
     },
     "execution_count": 210,
     "metadata": {},
     "output_type": "execute_result"
    }
   ],
   "source": [
    "kmeans_cluster_playlists(resp, 6, True)"
   ]
  },
  {
   "cell_type": "markdown",
   "metadata": {},
   "source": [
    "# junk cells"
   ]
  },
  {
   "cell_type": "code",
   "execution_count": null,
   "metadata": {},
   "outputs": [],
   "source": [
    "artists = ['tom misch', 'calvin harris', 'justin bieber']\n",
    "tracks = ['movie', 'feel so close', 'off my face']\n",
    "\n",
    "track_ids = get_track_ids(artists, tracks)\n",
    "\n",
    "get_track_features(track_ids)\n",
    "\n",
    "track_ids[0]"
   ]
  },
  {
   "cell_type": "code",
   "execution_count": null,
   "metadata": {},
   "outputs": [],
   "source": [
    "res = spotify.playlist_tracks('37i9dQZEVXbLiRSasKsNU9')\n",
    "\n",
    "res['items'][0]['track']['name'] # song name\n",
    "res['items'][0]['track']['artists'][0]['name'] # artist name\n",
    "res['items'][0]['track']['id'] # track_id"
   ]
  }
 ],
 "metadata": {
  "kernelspec": {
   "display_name": "Python 3",
   "language": "python",
   "name": "python3"
  },
  "language_info": {
   "codemirror_mode": {
    "name": "ipython",
    "version": 3
   },
   "file_extension": ".py",
   "mimetype": "text/x-python",
   "name": "python",
   "nbconvert_exporter": "python",
   "pygments_lexer": "ipython3",
   "version": "3.8.5"
  }
 },
 "nbformat": 4,
 "nbformat_minor": 5
}
